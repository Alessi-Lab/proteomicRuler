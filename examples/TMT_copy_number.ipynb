{
 "cells": [
  {
   "cell_type": "code",
   "execution_count": null,
   "metadata": {
    "collapsed": true,
    "pycharm": {
     "name": "#%%\n"
    }
   },
   "outputs": [],
   "source": [
    "from proteomicRuler.ruler import Ruler, add_mw\n",
    "import pandas as pd"
   ]
  },
  {
   "cell_type": "markdown",
   "source": [
    "Preparing the dataframe for the operation"
   ],
   "metadata": {
    "collapsed": false,
    "pycharm": {
     "name": "#%% md\n"
    }
   }
  },
  {
   "cell_type": "code",
   "execution_count": null,
   "outputs": [],
   "source": [
    "accession_id_col = \"Protein IDs\"\n",
    "# used as unique index and to directly fetch mw data from UniProt\n",
    "\n",
    "mw_col = \"Mass\"\n",
    "# molecular weight column name\n",
    "\n",
    "ploidy = 2\n",
    "# ploidy number\n",
    "\n",
    "total_cellular_protein_concentration = 200\n",
    "# cellular protein concentration used for calculation of total volume\n",
    "\n",
    "filename = r\"C:\\Users\\Toan Phung\\Downloads\\proteinGroups.txt\"\n",
    "df = pd.read_csv(filename, sep=\"\\t\")\n",
    "\n",
    "# selecting intensity columns\n",
    "intensity_columns = df.columns[57:57+16]\n",
    "\n",
    "# filter out contaminants and low confident data\n",
    "df = df[(df[\"Only identified by site\"]!=\"+\")&(df[\"Only identified by site\"]!=\"Reverse\")&(df[\"Only identified by site\"]!=\"Potential contaminant\")]\n",
    "\n",
    "# calculate tmt cumulative intensity\n",
    "df[\"cumulative_intensity\"] = df[intensity_columns].sum(axis=1)\n",
    "\n",
    "# recalculate corrected reporter intensity\n",
    "for i, r in df.iterrows():\n",
    "    if r[\"cumulative_intensity\"] != 0:\n",
    "        for c in intensity_columns:\n",
    "            df.at[i, c] = r[c]/r[\"cumulative_intensity\"]*r[\"Intensity\"]"
   ],
   "metadata": {
    "collapsed": false,
    "pycharm": {
     "name": "#%%\n"
    }
   }
  },
  {
   "cell_type": "markdown",
   "source": [
    "Add molecular weight data from UniProt to the original dataframe and remove data that does not have molecular weight"
   ],
   "metadata": {
    "collapsed": false,
    "pycharm": {
     "name": "#%% md\n"
    }
   }
  },
  {
   "cell_type": "code",
   "execution_count": null,
   "outputs": [],
   "source": [
    "df = add_mw(df, accession_id_col)\n",
    "df = df[pd.notnull(df[mw_col])]\n",
    "df[mw_col] = df[mw_col].str.replace(\",\", \"\")\n",
    "df[mw_col] = df[mw_col].astype(float)"
   ],
   "metadata": {
    "collapsed": false,
    "pycharm": {
     "name": "#%%\n"
    }
   }
  },
  {
   "cell_type": "markdown",
   "source": [
    "Perform copy number analysis and generate output dataframe and associated rank plots"
   ],
   "metadata": {
    "collapsed": false,
    "pycharm": {
     "name": "#%% md\n"
    }
   }
  },
  {
   "cell_type": "code",
   "execution_count": null,
   "outputs": [],
   "source": [
    "ruler = Ruler(df, intensity_columns, mw_col, accession_id_col, ploidy, total_cellular_protein_concentration)\n",
    "ruler.df.to_csv(filename+\"output.tsv\", sep=\"\\t\", index=False)"
   ],
   "metadata": {
    "collapsed": false,
    "pycharm": {
     "name": "#%%\n"
    }
   }
  }
 ],
 "metadata": {
  "kernelspec": {
   "display_name": "Python 3",
   "language": "python",
   "name": "python3"
  },
  "language_info": {
   "codemirror_mode": {
    "name": "ipython",
    "version": 2
   },
   "file_extension": ".py",
   "mimetype": "text/x-python",
   "name": "python",
   "nbconvert_exporter": "python",
   "pygments_lexer": "ipython2",
   "version": "2.7.6"
  }
 },
 "nbformat": 4,
 "nbformat_minor": 0
}